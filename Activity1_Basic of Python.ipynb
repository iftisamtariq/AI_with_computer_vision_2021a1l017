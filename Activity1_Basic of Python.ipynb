{
 "cells": [
  {
   "cell_type": "markdown",
   "metadata": {
    "id": "D92vUrt-sfBh"
   },
   "source": [
    "## **Basics of Python**"
   ]
  },
  {
   "cell_type": "markdown",
   "metadata": {
    "executionInfo": {
     "elapsed": 6,
     "status": "ok",
     "timestamp": 1671603605537,
     "user": {
      "displayName": "MEKHLA SHARMA",
      "userId": "05710641878641625170"
     },
     "user_tz": -330
    },
    "id": "vv-X7x59-I4e"
   },
   "source": [
    "#### Python is a high-level, general-purpose programming language. Its design philosophy emphasizes code readability with the use of significant indentation.Python is dynamically typed and garbage-collected. It supports multiple programming paradigms, including structured (particularly procedural), object-oriented and functional programming. It is often described as a \"batteries included\" language due to its comprehensive standard library.Guido van Rossum began working on Python in the late 1980s as a successor to the ABC programming language and first released it in 1991 as Python 0.9.0. Python 2.0 was released in 2000. Python 3.0, released in 2008, was a major revision not completely backward-compatible with earlier versions. Python 2.7.18, released in 2020, was the last release of Python 2.Python consistently ranks as one of the most popular programming languages."
   ]
  },
  {
   "cell_type": "markdown",
   "metadata": {},
   "source": [
    "# History of Python"
   ]
  },
  {
   "cell_type": "markdown",
   "metadata": {},
   "source": [
    "#### Python was conceived in the late 1980s by Guido van Rossum at Centrum Wiskunde & Informatica (CWI) in the Netherlands as a successor to the ABC programming language, which was inspired by SETL, capable of exception handling and interfacing with the Amoeba operating system. Its implementation began in December 1989. Van Rossum shouldered sole responsibility for the project, as the lead developer, until 12 July 2018, when he announced his \"permanent vacation\" from his responsibilities as Python's \"benevolent dictator for life\", a title the Python community bestowed upon him to reflect his long-term commitment as the project's chief decision-maker. In January 2019, active Python core developers elected a five-member Steering Council to lead the project.\n",
    "\n",
    "#### Python 2.0 was released on 16 October 2000, with many major new features such as list comprehensions, cycle-detecting garbage collection, reference counting, and Unicode support. Python 3.0, released on 3 December 2008, with many of its major features backported to Python 2.6.x and 2.7.x. Releases of Python 3 include the 2to3 utility, which automates the translation of Python 2 code to Python 3.\n",
    "\n",
    "#### Python 2.7's end-of-life was initially set for 2015, then postponed to 2020 out of concern that a large body of existing code could not easily be forward-ported to Python 3. No further security patches or other improvements will be released for it. Currently only 3.7 and later are supported. In 2021, Python 3.9.2 and 3.8.8 were expedited as all versions of Python (including 2.7) had security issues leading to possible remote code execution and web cache poisoning.\n",
    "\n",
    "#### In 2022, Python 3.10.4 and 3.9.12 were expedited and 3.8.13, and 3.7.13, because of many security issues. When Python 3.9.13 was released in May 2022, it was announced that the 3.9 series (joining the older series 3.8 and 3.7) would only receive security fixes in the future. On September 7, 2022, four new releases were made due to a potential denial-of-service attack: 3.10.7, 3.9.14, 3.8.14, and 3.7.14.\n",
    "\n",
    "#### As of November 2022, Python 3.11.0 is the current stable release. Notable changes from 3.10 include increased program execution speed and improved error reporting."
   ]
  },
  {
   "cell_type": "markdown",
   "metadata": {},
   "source": [
    "## Characteristics of Python"
   ]
  },
  {
   "cell_type": "markdown",
   "metadata": {},
   "source": [
    "##### Following are important characteristics of Python Programming . It supports functional and structured programming methods as well as OOP. It can be used as a scripting language or can be compiled to byte-code for building large applications.It provides very high-level dynamic data types and supports dynamic type checking. It supports automatic garbage collection. It can be easily integrated with C, C++, COM, ActiveX, CORBA, and Java."
   ]
  },
  {
   "cell_type": "markdown",
   "metadata": {},
   "source": [
    "# Applications of Python"
   ]
  },
  {
   "cell_type": "markdown",
   "metadata": {},
   "source": [
    "* Easy-to-learn − Python has few keywords, simple structure, and a clearly defined syntax. This allows the student to pick up the language quickly.\n",
    "* Easy-to-read − Python code is more clearly defined and visible to the eyes.\n",
    "* Easy-to-maintain − Python's source code is fairly easy-to-maintain.\n",
    "\n",
    "* A broad standard library − Python's bulk of the library is very portable and crossplatform compatible on UNIX, Windows, and Macintosh.\n",
    "\n",
    "* Interactive Mode − Python has support for an interactive mode which allows interactive testing and debugging of snippets of code.\n",
    "\n",
    "* Portable − Python can run on a wide variety of hardware platforms and has the same interface on all platforms.\n",
    "\n",
    "* Extendable − You can add low-level modules to the Python interpreter. These modules enable programmers to add to or customize their tools to be more efficient.\n",
    "\n",
    "* Databases − Python provides interfaces to all major commercial databases.\n",
    "\n",
    "* GUI Programming − Python supports GUI applications that can be created and ported to many system calls, libraries and windows systems, such as Windows MFC, Macintosh, and the X Window system of Unix.\n",
    "\n",
    "* Scalable − Python provides a better structure and "
   ]
  },
  {
   "cell_type": "markdown",
   "metadata": {},
   "source": [
    "# Getting Python"
   ]
  },
  {
   "cell_type": "markdown",
   "metadata": {},
   "source": [
    "#### The most up-to-date and current source code, binaries, documentation, news, etc., is available on the official website of Python https://www.python.org/ You can download Python documentation from https://www.python.org/doc/. The documentation is available in HTML, PDF, and PostScript formats."
   ]
  },
  {
   "cell_type": "markdown",
   "metadata": {},
   "source": [
    "# Installing Python"
   ]
  },
  {
   "cell_type": "markdown",
   "metadata": {},
   "source": [
    "#### Python distribution is available for a wide variety of platforms. You need to download only the binary code applicable for your platform and install Python. If the binary code for your platform is not available, you need a C compiler to compile the source code manually. Compiling the source code offers more flexibility in terms of choice of features that you require in your installation."
   ]
  },
  {
   "cell_type": "markdown",
   "metadata": {},
   "source": [
    "# Running Python"
   ]
  },
  {
   "cell_type": "markdown",
   "metadata": {},
   "source": [
    "## There are three different ways to start Python −"
   ]
  },
  {
   "cell_type": "markdown",
   "metadata": {},
   "source": [
    "*  Interactive Interpreter"
   ]
  },
  {
   "cell_type": "markdown",
   "metadata": {},
   "source": [
    "* You can start Python from Unix, DOS, or any other system that provides you a commandline interpreter or shell window."
   ]
  },
  {
   "cell_type": "code",
   "execution_count": null,
   "metadata": {},
   "outputs": [],
   "source": [
    "Enter python the command line.\n",
    "Start coding right away in the interactive interpreter.\n",
    "$python # Unix/Linux\n",
    "or\n",
    "python% # Unix/Linux\n",
    "or\n",
    "C:> python # Windows/DOS"
   ]
  },
  {
   "cell_type": "code",
   "execution_count": null,
   "metadata": {},
   "outputs": [],
   "source": [
    "-d\n",
    "It provides debug output."
   ]
  },
  {
   "cell_type": "code",
   "execution_count": null,
   "metadata": {},
   "outputs": [],
   "source": [
    "-O\n",
    "It generates optimized bytecode (resulting in .pyo files)."
   ]
  },
  {
   "cell_type": "code",
   "execution_count": null,
   "metadata": {},
   "outputs": [],
   "source": [
    "-S\n",
    "Do not run import site to look for Python paths on startup.\n"
   ]
  },
  {
   "cell_type": "code",
   "execution_count": null,
   "metadata": {},
   "outputs": [],
   "source": [
    "-v\n",
    "verbose output (detailed trace on import statements).\n"
   ]
  },
  {
   "cell_type": "code",
   "execution_count": null,
   "metadata": {},
   "outputs": [],
   "source": [
    "-X\n",
    "disable class-based built-in exceptions (just use strings); obsolete starting with version\n",
    "1.6.\n"
   ]
  },
  {
   "cell_type": "code",
   "execution_count": null,
   "metadata": {},
   "outputs": [],
   "source": [
    "\n",
    "-c cmd\n",
    "run Python script sent in as cmd string"
   ]
  },
  {
   "cell_type": "markdown",
   "metadata": {},
   "source": [
    "# Syntax and semantics"
   ]
  },
  {
   "cell_type": "markdown",
   "metadata": {},
   "source": [
    "#### Python is meant to be an easily readable language. Its formatting is visually uncluttered and often uses English keywords where other languages use punctuation. Unlike many other languages, it does not use curly brackets to delimit blocks, and semicolons after statements are allowed but rarely used. It has fewer syntactic exceptions and special cases than C or Pascal."
   ]
  },
  {
   "cell_type": "markdown",
   "metadata": {},
   "source": [
    "# Indentation"
   ]
  },
  {
   "cell_type": "markdown",
   "metadata": {},
   "source": [
    "####  Python uses whitespace indentation, rather than curly brackets or keywords, to delimit blocks. An increase in indentation comes after certain statements; a decrease in indentation signifies the end of the current block.[82] Thus, the program's visual structure accurately represents its semantic structure.[83] This feature is sometimes termed the off-side rule. Some other languages use indentation this way; but in most, indentation has no semantic meaning. The recommended indent size is four spaces"
   ]
  },
  {
   "cell_type": "markdown",
   "metadata": {},
   "source": [
    "# Statements and control flow"
   ]
  },
  {
   "cell_type": "markdown",
   "metadata": {},
   "source": [
    "#### Python's statements include:\n",
    "\n",
    "#### The assignment statement, using a single equals sign =\n",
    "* The if statement, which conditionally executes a block of code, along with else and elif (a contraction of else-if)\n",
    "* The for statement, which iterates over an iterable object, capturing each element to a local variable for use by the attached block\n",
    "* The while statement, which executes a block of code as long as its condition is true\n",
    "* The try statement, which allows exceptions raised in its attached code block to be caught and handled by except clauses (or * * new syntax except* in Python 3.11 for exception groups[85]); it also ensures that clean-up code in a finally block is always * run regardless of how the block exits\n",
    "* The raise statement, used to raise a specified exception or re-raise a caught exception\n",
    "* The class statement, which executes a block of code and attaches its local namespace to a class, for use in object-oriented programming\n",
    "* The def statement, which defines a function or method\n",
    "* The with statement, which encloses a code block within a context manager (for example, acquiring a lock before it is run, then releasing the lock; or opening and closing a file), allowing resource-acquisition-is-initialization (RAII)-like behavior and replacing a common try/finally idiom[86]\n",
    "* The break statement, which exits a loop\n",
    "* The continue statement, which skips the rest of the current iteration and continues with the next\n",
    "* The del statement, which removes a variable—deleting the reference from the name to the value, and producing an error if the variable is referred to before it is redefined\n",
    "* The pass statement, serving as a NOP, syntactically needed to create an empty code block\n",
    "* The assert statement, used in debugging to check for conditions that should apply\n",
    "* The yield statement, which returns a value from a generator function (and also an operator); used to implement coroutines\n",
    "* The return statement, used to return a value from a function\n",
    "* The import and from statements, used to import modules whose functions or variables can be used in the current program\n",
    "* The assignment statement (=) binds a name as a reference to a separate, dynamically allocated object. Variables may subsequently be rebound at any time to any object. In Python, a variable name is a generic reference holder without a fixed data type; however, it always refers to some object with a type. This is called dynamic typing—in contrast to statically-typed languages, where each variable may contain only a value of a certain type.\n",
    "\n",
    "#### Python does not support tail call optimization or first-class continuations, and, according to Van Rossum, it never will.[87][88] However, better support for coroutine-like functionality is provided by extending Python's generators.[89] Before 2.5, generators were lazy iterators; data was passed unidirectionally out of the generator. From Python 2.5 on, it is possible to pass data back into a generator function; and from version 3.3, it can be passed through multiple stack levels.[90]"
   ]
  },
  {
   "cell_type": "markdown",
   "metadata": {},
   "source": [
    "# Experessions"
   ]
  },
  {
   "cell_type": "markdown",
   "metadata": {},
   "source": [
    "#### An expression in Python is a combination of operators and operands. An example of expression can be : x = x + 1 0 x = x + 10 x=x+10. In this expression, the first 1 0 10 10 is added to the variable x. After the addition is performed, the result is assigned to the variable x"
   ]
  },
  {
   "cell_type": "markdown",
   "metadata": {},
   "source": [
    "## Addition"
   ]
  },
  {
   "cell_type": "code",
   "execution_count": 3,
   "metadata": {
    "colab": {
     "base_uri": "https://localhost:8080/"
    },
    "executionInfo": {
     "elapsed": 489,
     "status": "ok",
     "timestamp": 1671603617035,
     "user": {
      "displayName": "MEKHLA SHARMA",
      "userId": "05710641878641625170"
     },
     "user_tz": -330
    },
    "id": "QyOZxXbn-Lwt",
    "outputId": "b4747805-11ce-426d-fb58-eaec1bff1342"
   },
   "outputs": [
    {
     "name": "stdout",
     "output_type": "stream",
     "text": [
      "Enter the first number4\n",
      "Enter the second number5\n",
      "9\n"
     ]
    }
   ],
   "source": [
    "num = int(input(\"Enter the first number\"))\n",
    "num2 = int(input(\"Enter the second number\"))\n",
    "print(num + num2)"
   ]
  },
  {
   "cell_type": "markdown",
   "metadata": {},
   "source": [
    "## Multiplication"
   ]
  },
  {
   "cell_type": "code",
   "execution_count": 4,
   "metadata": {
    "colab": {
     "base_uri": "https://localhost:8080/"
    },
    "executionInfo": {
     "elapsed": 414,
     "status": "ok",
     "timestamp": 1671603621348,
     "user": {
      "displayName": "MEKHLA SHARMA",
      "userId": "05710641878641625170"
     },
     "user_tz": -330
    },
    "id": "NcjwbUrV-XSX",
    "outputId": "18b38134-671c-4a1c-bd8b-f1f10d765993"
   },
   "outputs": [
    {
     "name": "stdout",
     "output_type": "stream",
     "text": [
      "Enter the first number4\n",
      "Enter the second number5\n",
      "20\n"
     ]
    }
   ],
   "source": [
    "num = int(input(\"Enter the first number\"))\n",
    "num2 = int(input(\"Enter the second number\"))\n",
    "print(num * num2)"
   ]
  },
  {
   "cell_type": "markdown",
   "metadata": {},
   "source": [
    "## Printing Statements"
   ]
  },
  {
   "cell_type": "code",
   "execution_count": 5,
   "metadata": {
    "colab": {
     "base_uri": "https://localhost:8080/",
     "height": 36
    },
    "executionInfo": {
     "elapsed": 36,
     "status": "ok",
     "timestamp": 1671603623994,
     "user": {
      "displayName": "MEKHLA SHARMA",
      "userId": "05710641878641625170"
     },
     "user_tz": -330
    },
    "id": "A49cz0pW-aKp",
    "outputId": "02d9e4d2-3cdb-4071-82b1-d2874ef2af58"
   },
   "outputs": [
    {
     "name": "stdout",
     "output_type": "stream",
     "text": [
      "hello world\n"
     ]
    }
   ],
   "source": [
    "print(\"hello world\")"
   ]
  },
  {
   "cell_type": "markdown",
   "metadata": {
    "executionInfo": {
     "elapsed": 467,
     "status": "ok",
     "timestamp": 1671603634868,
     "user": {
      "displayName": "MEKHLA SHARMA",
      "userId": "05710641878641625170"
     },
     "user_tz": -330
    },
    "id": "sV3Tc2ja--X3"
   },
   "source": [
    "## Looping Statemet using for loop\n"
   ]
  },
  {
   "cell_type": "code",
   "execution_count": 6,
   "metadata": {
    "colab": {
     "base_uri": "https://localhost:8080/"
    },
    "executionInfo": {
     "elapsed": 1156,
     "status": "ok",
     "timestamp": 1671603638778,
     "user": {
      "displayName": "MEKHLA SHARMA",
      "userId": "05710641878641625170"
     },
     "user_tz": -330
    },
    "id": "qQwr6Hbd_AwC",
    "outputId": "f5a570fe-93be-4da8-9563-ec90ab04cbe6"
   },
   "outputs": [
    {
     "name": "stdout",
     "output_type": "stream",
     "text": [
      "Ente the numebr of times you want the loop to exec10\n",
      "0\n",
      "1\n",
      "2\n",
      "3\n",
      "4\n",
      "5\n",
      "6\n",
      "7\n",
      "8\n",
      "9\n"
     ]
    }
   ],
   "source": [
    "num = int(input(\"Ente the numebr of times you want the loop to exec\"))\n",
    "for i in range(num):\n",
    "  print(i)"
   ]
  },
  {
   "cell_type": "markdown",
   "metadata": {},
   "source": [
    "#### Comments can be used to explain Python code. Comments can be used to make the code more readable. Comments can be used to prevent execution when testing code."
   ]
  },
  {
   "cell_type": "code",
   "execution_count": 9,
   "metadata": {
    "colab": {
     "base_uri": "https://localhost:8080/"
    },
    "executionInfo": {
     "elapsed": 462,
     "status": "ok",
     "timestamp": 1671603663856,
     "user": {
      "displayName": "MEKHLA SHARMA",
      "userId": "05710641878641625170"
     },
     "user_tz": -330
    },
    "id": "B5LclF9jBKo3",
    "outputId": "200c8949-125c-4063-a2aa-45622339d437"
   },
   "outputs": [
    {
     "name": "stdout",
     "output_type": "stream",
     "text": [
      "hello world\n"
     ]
    }
   ],
   "source": [
    "print(\"hello world\")#\n"
   ]
  },
  {
   "cell_type": "code",
   "execution_count": 10,
   "metadata": {
    "executionInfo": {
     "elapsed": 7,
     "status": "ok",
     "timestamp": 1671603668269,
     "user": {
      "displayName": "MEKHLA SHARMA",
      "userId": "05710641878641625170"
     },
     "user_tz": -330
    },
    "id": "Bs3q7AyTBTXp"
   },
   "outputs": [],
   "source": [
    "# print(\"hello world\")"
   ]
  },
  {
   "cell_type": "code",
   "execution_count": 11,
   "metadata": {
    "colab": {
     "base_uri": "https://localhost:8080/"
    },
    "executionInfo": {
     "elapsed": 493,
     "status": "ok",
     "timestamp": 1671603674035,
     "user": {
      "displayName": "MEKHLA SHARMA",
      "userId": "05710641878641625170"
     },
     "user_tz": -330
    },
    "id": "fkASuVWbBc04",
    "outputId": "2a6438f5-a545-439f-e95f-7dc32d47442a"
   },
   "outputs": [
    {
     "name": "stdout",
     "output_type": "stream",
     "text": [
      "hello\n"
     ]
    }
   ],
   "source": [
    "\"\"\"\n",
    "this  is a comment\n",
    "this is a multiline comment\n",
    "\"\"\"\n",
    "print(\"hello\")"
   ]
  },
  {
   "cell_type": "markdown",
   "metadata": {},
   "source": [
    "## Commenting using the triple quotes"
   ]
  },
  {
   "cell_type": "code",
   "execution_count": null,
   "metadata": {},
   "outputs": [],
   "source": [
    "'''\n",
    "This is a multi line comment \n",
    "that can be used to define the code more appropriately\n",
    "and describe a problem even better\n",
    "'''"
   ]
  },
  {
   "cell_type": "markdown",
   "metadata": {
    "id": "36rnYbv1syg-"
   },
   "source": [
    "# **Data Types**"
   ]
  },
  {
   "cell_type": "markdown",
   "metadata": {},
   "source": [
    "#### In programming, data type is an important concept.Variables can store data of different types, and different types can do different things.Python has the following data types built-in by default, in these categories:\n",
    "\n",
    "* Text Type:\tstr\n",
    "* Numeric Types:\tint, float, complex\n",
    "* Sequence Types:\tlist, tuple, range\n",
    "* Mapping Type:\tdict\n",
    "* Set Types:\tset, frozenset\n",
    "* Boolean Type:\tbool\n",
    "* Binary Types:\tbytes, bytearray, memoryview\n",
    "* None Type:\tNoneType"
   ]
  },
  {
   "cell_type": "markdown",
   "metadata": {},
   "source": [
    "## Integer data Type"
   ]
  },
  {
   "cell_type": "code",
   "execution_count": 12,
   "metadata": {
    "colab": {
     "base_uri": "https://localhost:8080/"
    },
    "executionInfo": {
     "elapsed": 901,
     "status": "ok",
     "timestamp": 1671603690273,
     "user": {
      "displayName": "MEKHLA SHARMA",
      "userId": "05710641878641625170"
     },
     "user_tz": -330
    },
    "id": "MaixGWpUCRYZ",
    "outputId": "2edb61e2-9995-4664-9ffc-21d07283b529"
   },
   "outputs": [
    {
     "data": {
      "text/plain": [
       "int"
      ]
     },
     "execution_count": 12,
     "metadata": {},
     "output_type": "execute_result"
    }
   ],
   "source": [
    "type(80)"
   ]
  },
  {
   "cell_type": "markdown",
   "metadata": {},
   "source": [
    "## Negative integer data type"
   ]
  },
  {
   "cell_type": "code",
   "execution_count": 13,
   "metadata": {
    "colab": {
     "base_uri": "https://localhost:8080/"
    },
    "executionInfo": {
     "elapsed": 15,
     "status": "ok",
     "timestamp": 1671603693084,
     "user": {
      "displayName": "MEKHLA SHARMA",
      "userId": "05710641878641625170"
     },
     "user_tz": -330
    },
    "id": "S84RjjEWCZAP",
    "outputId": "37a7e256-692b-4ba6-ce0b-beb4ee35f9f6"
   },
   "outputs": [
    {
     "data": {
      "text/plain": [
       "int"
      ]
     },
     "execution_count": 13,
     "metadata": {},
     "output_type": "execute_result"
    }
   ],
   "source": [
    "type(-80)"
   ]
  },
  {
   "cell_type": "markdown",
   "metadata": {},
   "source": [
    "## Floating integer data Type"
   ]
  },
  {
   "cell_type": "code",
   "execution_count": 14,
   "metadata": {
    "colab": {
     "base_uri": "https://localhost:8080/"
    },
    "executionInfo": {
     "elapsed": 486,
     "status": "ok",
     "timestamp": 1671603696618,
     "user": {
      "displayName": "MEKHLA SHARMA",
      "userId": "05710641878641625170"
     },
     "user_tz": -330
    },
    "id": "voLr9U8uCbeG",
    "outputId": "e6895cd4-6a00-48dd-fce6-9fcf104318b0"
   },
   "outputs": [
    {
     "data": {
      "text/plain": [
       "float"
      ]
     },
     "execution_count": 14,
     "metadata": {},
     "output_type": "execute_result"
    }
   ],
   "source": [
    "type(10.5)"
   ]
  },
  {
   "cell_type": "markdown",
   "metadata": {},
   "source": [
    "## String data Type"
   ]
  },
  {
   "cell_type": "code",
   "execution_count": 15,
   "metadata": {
    "colab": {
     "base_uri": "https://localhost:8080/"
    },
    "executionInfo": {
     "elapsed": 37,
     "status": "ok",
     "timestamp": 1671603699781,
     "user": {
      "displayName": "MEKHLA SHARMA",
      "userId": "05710641878641625170"
     },
     "user_tz": -330
    },
    "id": "pKRO8eSkCibX",
    "outputId": "4a40ae6a-2fe9-4e84-9a6c-fd211e0ea177"
   },
   "outputs": [
    {
     "data": {
      "text/plain": [
       "str"
      ]
     },
     "execution_count": 15,
     "metadata": {},
     "output_type": "execute_result"
    }
   ],
   "source": [
    "type(\"hello\")"
   ]
  },
  {
   "cell_type": "markdown",
   "metadata": {},
   "source": [
    "## Boolean Data Type"
   ]
  },
  {
   "cell_type": "code",
   "execution_count": 16,
   "metadata": {
    "colab": {
     "base_uri": "https://localhost:8080/"
    },
    "executionInfo": {
     "elapsed": 589,
     "status": "ok",
     "timestamp": 1671603706529,
     "user": {
      "displayName": "MEKHLA SHARMA",
      "userId": "05710641878641625170"
     },
     "user_tz": -330
    },
    "id": "0BGQEg4KCo2N",
    "outputId": "354ca5f7-a24f-4a3a-e52f-2c62852d932b"
   },
   "outputs": [
    {
     "data": {
      "text/plain": [
       "bool"
      ]
     },
     "execution_count": 16,
     "metadata": {},
     "output_type": "execute_result"
    }
   ],
   "source": [
    "type(6>3)"
   ]
  },
  {
   "cell_type": "code",
   "execution_count": 17,
   "metadata": {
    "colab": {
     "base_uri": "https://localhost:8080/"
    },
    "executionInfo": {
     "elapsed": 5,
     "status": "ok",
     "timestamp": 1671603709798,
     "user": {
      "displayName": "MEKHLA SHARMA",
      "userId": "05710641878641625170"
     },
     "user_tz": -330
    },
    "id": "1pVH8R0VCwOv",
    "outputId": "3824e1d5-98fe-4a06-9707-282735b58bb3"
   },
   "outputs": [
    {
     "data": {
      "text/plain": [
       "bool"
      ]
     },
     "execution_count": 17,
     "metadata": {},
     "output_type": "execute_result"
    }
   ],
   "source": [
    "type(6<3)"
   ]
  },
  {
   "cell_type": "markdown",
   "metadata": {
    "executionInfo": {
     "elapsed": 11,
     "status": "ok",
     "timestamp": 1671603713605,
     "user": {
      "displayName": "MEKHLA SHARMA",
      "userId": "05710641878641625170"
     },
     "user_tz": -330
    },
    "id": "WLXnlQf_C5rQ"
   },
   "source": [
    "# Type Casting in Python"
   ]
  },
  {
   "cell_type": "markdown",
   "metadata": {},
   "source": [
    "#### Specify a Variable TypeThere may be times when you want to specify a type on to a variable. This can be done with casting. Python is an object-orientated language, and as such it uses classes to define data types, including its primitive types. Casting in python is therefore done using constructor functions:\n",
    "\n",
    "* int() - constructs an integer number from an integer literal, a float literal (by removing all decimals), or a string literal (providing the string represents a whole number)\n",
    "* float() - constructs a float number from an integer literal, a float literal or a string literal (providing the string represents a float or an integer)\n",
    "* str() - constructs a string from a wide variety of data types, including strings, integer literals and float literals"
   ]
  },
  {
   "cell_type": "code",
   "execution_count": null,
   "metadata": {},
   "outputs": [],
   "source": []
  },
  {
   "cell_type": "code",
   "execution_count": 20,
   "metadata": {
    "colab": {
     "base_uri": "https://localhost:8080/"
    },
    "executionInfo": {
     "elapsed": 655,
     "status": "ok",
     "timestamp": 1671603728528,
     "user": {
      "displayName": "MEKHLA SHARMA",
      "userId": "05710641878641625170"
     },
     "user_tz": -330
    },
    "id": "4XHTaHzwDM73",
    "outputId": "b430ec4f-becb-4b87-a5ca-6f056f319924"
   },
   "outputs": [
    {
     "data": {
      "text/plain": [
       "2"
      ]
     },
     "execution_count": 20,
     "metadata": {},
     "output_type": "execute_result"
    }
   ],
   "source": [
    "int(2.8)"
   ]
  },
  {
   "cell_type": "code",
   "execution_count": null,
   "metadata": {
    "colab": {
     "base_uri": "https://localhost:8080/"
    },
    "executionInfo": {
     "elapsed": 523,
     "status": "ok",
     "timestamp": 1636886747857,
     "user": {
      "displayName": "MEKHLA SHARMA",
      "photoUrl": "https://lh3.googleusercontent.com/a-/AOh14GjpGRAatx-xjOAHEDoo6dBnfXAFJj12RM3gQ5yz=s64",
      "userId": "05710641878641625170"
     },
     "user_tz": -330
    },
    "id": "VNPc1E9NDXOy",
    "outputId": "c9613a04-5176-4a30-862c-818503156b0b"
   },
   "outputs": [
    {
     "data": {
      "text/plain": [
       "7.0"
      ]
     },
     "execution_count": 16,
     "metadata": {},
     "output_type": "execute_result"
    }
   ],
   "source": [
    "float(7)"
   ]
  },
  {
   "cell_type": "code",
   "execution_count": 21,
   "metadata": {
    "colab": {
     "base_uri": "https://localhost:8080/",
     "height": 36
    },
    "executionInfo": {
     "elapsed": 15,
     "status": "ok",
     "timestamp": 1671603731954,
     "user": {
      "displayName": "MEKHLA SHARMA",
      "userId": "05710641878641625170"
     },
     "user_tz": -330
    },
    "id": "NgdJH_BGDg-C",
    "outputId": "6fbe5fb1-5506-40ff-cb95-d5493445345b"
   },
   "outputs": [
    {
     "data": {
      "application/vnd.google.colaboratory.intrinsic+json": {
       "type": "string"
      },
      "text/plain": [
       "'3'"
      ]
     },
     "execution_count": 21,
     "metadata": {},
     "output_type": "execute_result"
    }
   ],
   "source": [
    "str(3)"
   ]
  },
  {
   "cell_type": "markdown",
   "metadata": {
    "executionInfo": {
     "elapsed": 436,
     "status": "ok",
     "timestamp": 1671603739810,
     "user": {
      "displayName": "MEKHLA SHARMA",
      "userId": "05710641878641625170"
     },
     "user_tz": -330
    },
    "id": "NL6YPwwjDkTQ"
   },
   "source": [
    "# Variable declarartion\n"
   ]
  },
  {
   "cell_type": "code",
   "execution_count": 23,
   "metadata": {
    "colab": {
     "base_uri": "https://localhost:8080/"
    },
    "executionInfo": {
     "elapsed": 9,
     "status": "ok",
     "timestamp": 1671603744189,
     "user": {
      "displayName": "MEKHLA SHARMA",
      "userId": "05710641878641625170"
     },
     "user_tz": -330
    },
    "id": "KzOz8dPLENPL",
    "outputId": "c18ae62f-4a1d-47ab-a05f-c9a692bf07c7"
   },
   "outputs": [
    {
     "name": "stdout",
     "output_type": "stream",
     "text": [
      "blueline\n"
     ]
    }
   ],
   "source": [
    "name = \"blueline\"\n",
    "print(name)\n"
   ]
  },
  {
   "cell_type": "code",
   "execution_count": 24,
   "metadata": {
    "colab": {
     "base_uri": "https://localhost:8080/"
    },
    "executionInfo": {
     "elapsed": 10,
     "status": "ok",
     "timestamp": 1671603747395,
     "user": {
      "displayName": "MEKHLA SHARMA",
      "userId": "05710641878641625170"
     },
     "user_tz": -330
    },
    "id": "aea5WZVmEwjk",
    "outputId": "ba534e3d-76d7-4e07-cdb6-4d4dc7aea951"
   },
   "outputs": [
    {
     "name": "stdout",
     "output_type": "stream",
     "text": [
      "hello world\n"
     ]
    }
   ],
   "source": [
    "greetings = \"hello world\"\n",
    "print(greetings)"
   ]
  },
  {
   "cell_type": "code",
   "execution_count": 25,
   "metadata": {
    "colab": {
     "base_uri": "https://localhost:8080/",
     "height": 36
    },
    "executionInfo": {
     "elapsed": 508,
     "status": "ok",
     "timestamp": 1671603751558,
     "user": {
      "displayName": "MEKHLA SHARMA",
      "userId": "05710641878641625170"
     },
     "user_tz": -330
    },
    "id": "I9NMAXDgE-G5",
    "outputId": "9afad42a-fe34-4b78-c959-d10908799446"
   },
   "outputs": [
    {
     "data": {
      "application/vnd.google.colaboratory.intrinsic+json": {
       "type": "string"
      },
      "text/plain": [
       "'hello world'"
      ]
     },
     "execution_count": 25,
     "metadata": {},
     "output_type": "execute_result"
    }
   ],
   "source": [
    "greetings"
   ]
  },
  {
   "cell_type": "code",
   "execution_count": 26,
   "metadata": {
    "colab": {
     "base_uri": "https://localhost:8080/"
    },
    "executionInfo": {
     "elapsed": 11,
     "status": "ok",
     "timestamp": 1671603754072,
     "user": {
      "displayName": "MEKHLA SHARMA",
      "userId": "05710641878641625170"
     },
     "user_tz": -330
    },
    "id": "siCLfi4PFLVE",
    "outputId": "f76d9397-2a2c-4268-c4bb-9dd13c7ae5c2"
   },
   "outputs": [
    {
     "name": "stdout",
     "output_type": "stream",
     "text": [
      "12\n"
     ]
    }
   ],
   "source": [
    "a = 10\n",
    "b = 2\n",
    "c = a+b\n",
    "print(c)\n"
   ]
  },
  {
   "cell_type": "markdown",
   "metadata": {
    "id": "sj8O3eRaWUok"
   },
   "source": [
    "# Lists in Python"
   ]
  },
  {
   "cell_type": "markdown",
   "metadata": {},
   "source": [
    "#### Lists are used to store multiple items in a single variable.Lists are one of 4 built-in data types in Python used to store collections of data, the other 3 are Tuple, Set, and Dictionary, all with different qualities and usage.Lists are created using square brackets:"
   ]
  },
  {
   "cell_type": "code",
   "execution_count": 1,
   "metadata": {
    "colab": {
     "base_uri": "https://localhost:8080/"
    },
    "executionInfo": {
     "elapsed": 497,
     "status": "ok",
     "timestamp": 1671603804242,
     "user": {
      "displayName": "MEKHLA SHARMA",
      "userId": "05710641878641625170"
     },
     "user_tz": -330
    },
    "id": "IIYeaABbGLHH",
    "outputId": "6721081d-ef01-4b01-f724-75ba02828160"
   },
   "outputs": [
    {
     "name": "stdout",
     "output_type": "stream",
     "text": [
      "sheep\n"
     ]
    }
   ],
   "source": [
    "print(\"We have a list of animals given bels\")\n",
    "animals = (\"dog\", \"cat\", \"sheep\", \"goat\", \"tiger\",\"lion\")\n",
    "print(animals[2])"
   ]
  },
  {
   "cell_type": "code",
   "execution_count": 29,
   "metadata": {
    "colab": {
     "base_uri": "https://localhost:8080/"
    },
    "executionInfo": {
     "elapsed": 7,
     "status": "ok",
     "timestamp": 1671603806693,
     "user": {
      "displayName": "MEKHLA SHARMA",
      "userId": "05710641878641625170"
     },
     "user_tz": -330
    },
    "id": "JLXpEsleGUXX",
    "outputId": "43142793-c058-4303-d7f4-a54aae045950"
   },
   "outputs": [
    {
     "name": "stdout",
     "output_type": "stream",
     "text": [
      "goat\n"
     ]
    }
   ],
   "source": [
    "print(animals[-3])"
   ]
  },
  {
   "cell_type": "code",
   "execution_count": 30,
   "metadata": {
    "colab": {
     "base_uri": "https://localhost:8080/"
    },
    "executionInfo": {
     "elapsed": 22,
     "status": "ok",
     "timestamp": 1671603810043,
     "user": {
      "displayName": "MEKHLA SHARMA",
      "userId": "05710641878641625170"
     },
     "user_tz": -330
    },
    "id": "HKh2tqYoGh31",
    "outputId": "61f3fec7-33f6-4823-8909-b53490b4c431"
   },
   "outputs": [
    {
     "name": "stdout",
     "output_type": "stream",
     "text": [
      "('sheep', 'goat', 'tiger')\n"
     ]
    }
   ],
   "source": [
    "print(animals[2:5])"
   ]
  },
  {
   "cell_type": "code",
   "execution_count": 31,
   "metadata": {
    "colab": {
     "base_uri": "https://localhost:8080/",
     "height": 36
    },
    "executionInfo": {
     "elapsed": 25,
     "status": "ok",
     "timestamp": 1671603812518,
     "user": {
      "displayName": "MEKHLA SHARMA",
      "userId": "05710641878641625170"
     },
     "user_tz": -330
    },
    "id": "texNHW_aG5oZ",
    "outputId": "43c264d6-1c72-4afd-deae-f2b934681ba0"
   },
   "outputs": [
    {
     "data": {
      "application/vnd.google.colaboratory.intrinsic+json": {
       "type": "string"
      },
      "text/plain": [
       "'orange'"
      ]
     },
     "execution_count": 31,
     "metadata": {},
     "output_type": "execute_result"
    }
   ],
   "source": [
    "# create list of fruits\n",
    "fruits = (\"apple\", \"banana\", \"peach\", \"orange\")\n",
    "fruits[3]"
   ]
  },
  {
   "cell_type": "code",
   "execution_count": 32,
   "metadata": {
    "executionInfo": {
     "elapsed": 1642,
     "status": "ok",
     "timestamp": 1671603821982,
     "user": {
      "displayName": "MEKHLA SHARMA",
      "userId": "05710641878641625170"
     },
     "user_tz": -330
    },
    "id": "B7acAWdfHhTl"
   },
   "outputs": [],
   "source": [
    "# change value of an item in list\n",
    "fruits = [\"apple\", \"banana\", \"peach\", \"orange\"]\n"
   ]
  },
  {
   "cell_type": "code",
   "execution_count": 33,
   "metadata": {
    "colab": {
     "base_uri": "https://localhost:8080/",
     "height": 36
    },
    "executionInfo": {
     "elapsed": 597,
     "status": "ok",
     "timestamp": 1671603829301,
     "user": {
      "displayName": "MEKHLA SHARMA",
      "userId": "05710641878641625170"
     },
     "user_tz": -330
    },
    "id": "MrUBrbR7I-gl",
    "outputId": "95b7cb10-87c5-4fe1-f3da-d544ccf8e779"
   },
   "outputs": [
    {
     "data": {
      "application/vnd.google.colaboratory.intrinsic+json": {
       "type": "string"
      },
      "text/plain": [
       "'peach'"
      ]
     },
     "execution_count": 33,
     "metadata": {},
     "output_type": "execute_result"
    }
   ],
   "source": [
    "fruits[2]"
   ]
  },
  {
   "cell_type": "code",
   "execution_count": 34,
   "metadata": {
    "executionInfo": {
     "elapsed": 432,
     "status": "ok",
     "timestamp": 1671603832571,
     "user": {
      "displayName": "MEKHLA SHARMA",
      "userId": "05710641878641625170"
     },
     "user_tz": -330
    },
    "id": "gQo9zacEJkvk"
   },
   "outputs": [],
   "source": [
    "# add new item to list\n",
    "fruits.append('cherry')"
   ]
  },
  {
   "cell_type": "code",
   "execution_count": 35,
   "metadata": {
    "colab": {
     "base_uri": "https://localhost:8080/"
    },
    "executionInfo": {
     "elapsed": 20,
     "status": "ok",
     "timestamp": 1671603838327,
     "user": {
      "displayName": "MEKHLA SHARMA",
      "userId": "05710641878641625170"
     },
     "user_tz": -330
    },
    "id": "N_j5AZpUKLGA",
    "outputId": "9817d817-db15-47fe-8a21-2821e7ae94dc"
   },
   "outputs": [
    {
     "data": {
      "text/plain": [
       "['apple', 'banana', 'peach', 'orange', 'cherry']"
      ]
     },
     "execution_count": 35,
     "metadata": {},
     "output_type": "execute_result"
    }
   ],
   "source": [
    "fruits"
   ]
  },
  {
   "cell_type": "code",
   "execution_count": 36,
   "metadata": {
    "executionInfo": {
     "elapsed": 6,
     "status": "ok",
     "timestamp": 1671603840713,
     "user": {
      "displayName": "MEKHLA SHARMA",
      "userId": "05710641878641625170"
     },
     "user_tz": -330
    },
    "id": "j5I87grlKQNH"
   },
   "outputs": [],
   "source": [
    "# change item in a list\n",
    "fruits[0] = 'watermelon'"
   ]
  },
  {
   "cell_type": "code",
   "execution_count": 37,
   "metadata": {
    "colab": {
     "base_uri": "https://localhost:8080/"
    },
    "executionInfo": {
     "elapsed": 28,
     "status": "ok",
     "timestamp": 1671603847801,
     "user": {
      "displayName": "MEKHLA SHARMA",
      "userId": "05710641878641625170"
     },
     "user_tz": -330
    },
    "id": "wl61oEm3KVmB",
    "outputId": "92da75a3-fe19-487a-f450-39f56b565029"
   },
   "outputs": [
    {
     "name": "stdout",
     "output_type": "stream",
     "text": [
      "['watermelon', 'banana', 'peach', 'orange', 'cherry']\n"
     ]
    }
   ],
   "source": [
    "print(fruits)"
   ]
  },
  {
   "cell_type": "code",
   "execution_count": 38,
   "metadata": {
    "executionInfo": {
     "elapsed": 36,
     "status": "ok",
     "timestamp": 1671603856626,
     "user": {
      "displayName": "MEKHLA SHARMA",
      "userId": "05710641878641625170"
     },
     "user_tz": -330
    },
    "id": "GBVY8ZfBKu_i"
   },
   "outputs": [],
   "source": [
    "# mixed data in a list\n",
    "mixed = [\"mango\", \"true\", 11, 5.3]"
   ]
  },
  {
   "cell_type": "code",
   "execution_count": 39,
   "metadata": {
    "colab": {
     "base_uri": "https://localhost:8080/"
    },
    "executionInfo": {
     "elapsed": 15,
     "status": "ok",
     "timestamp": 1671603860736,
     "user": {
      "displayName": "MEKHLA SHARMA",
      "userId": "05710641878641625170"
     },
     "user_tz": -330
    },
    "id": "-L5LRXaSLAgo",
    "outputId": "3e849752-4a10-4164-c805-9db681c7eddf"
   },
   "outputs": [
    {
     "data": {
      "text/plain": [
       "5.3"
      ]
     },
     "execution_count": 39,
     "metadata": {},
     "output_type": "execute_result"
    }
   ],
   "source": [
    "mixed[3]"
   ]
  },
  {
   "cell_type": "code",
   "execution_count": 40,
   "metadata": {
    "executionInfo": {
     "elapsed": 47,
     "status": "ok",
     "timestamp": 1671603872101,
     "user": {
      "displayName": "MEKHLA SHARMA",
      "userId": "05710641878641625170"
     },
     "user_tz": -330
    },
    "id": "evAD7KahLE_Y"
   },
   "outputs": [],
   "source": [
    "mixed.remove(11)"
   ]
  },
  {
   "cell_type": "code",
   "execution_count": 41,
   "metadata": {
    "colab": {
     "base_uri": "https://localhost:8080/"
    },
    "executionInfo": {
     "elapsed": 10,
     "status": "ok",
     "timestamp": 1671603876723,
     "user": {
      "displayName": "MEKHLA SHARMA",
      "userId": "05710641878641625170"
     },
     "user_tz": -330
    },
    "id": "B9V1pqtELcIP",
    "outputId": "746cf7d5-c3d0-490e-fcb6-f2f7d483c0c4"
   },
   "outputs": [
    {
     "data": {
      "text/plain": [
       "['mango', 'true', 5.3]"
      ]
     },
     "execution_count": 41,
     "metadata": {},
     "output_type": "execute_result"
    }
   ],
   "source": [
    "mixed"
   ]
  },
  {
   "cell_type": "code",
   "execution_count": 42,
   "metadata": {
    "colab": {
     "base_uri": "https://localhost:8080/"
    },
    "executionInfo": {
     "elapsed": 62,
     "status": "ok",
     "timestamp": 1671603892276,
     "user": {
      "displayName": "MEKHLA SHARMA",
      "userId": "05710641878641625170"
     },
     "user_tz": -330
    },
    "id": "ICex5R-HLuMl",
    "outputId": "420b8032-b946-456d-bd46-158faa20855b"
   },
   "outputs": [
    {
     "name": "stdout",
     "output_type": "stream",
     "text": [
      "dog\n",
      "cat\n",
      "sheep\n",
      "goat\n",
      "tiger\n",
      "lion\n"
     ]
    }
   ],
   "source": [
    "#loop through list\n",
    "for a in animals:\n",
    "  print(a)\n"
   ]
  },
  {
   "cell_type": "code",
   "execution_count": 43,
   "metadata": {
    "colab": {
     "base_uri": "https://localhost:8080/"
    },
    "executionInfo": {
     "elapsed": 8,
     "status": "ok",
     "timestamp": 1671603900063,
     "user": {
      "displayName": "MEKHLA SHARMA",
      "userId": "05710641878641625170"
     },
     "user_tz": -330
    },
    "id": "VutDjAnAL6hQ",
    "outputId": "efa18e67-7bd9-451e-8ac1-4de0f52a929f"
   },
   "outputs": [
    {
     "name": "stdout",
     "output_type": "stream",
     "text": [
      "6\n"
     ]
    }
   ],
   "source": [
    "# check lenghth of list\n",
    "print(len(animals))\n"
   ]
  },
  {
   "cell_type": "code",
   "execution_count": 44,
   "metadata": {
    "colab": {
     "base_uri": "https://localhost:8080/"
    },
    "executionInfo": {
     "elapsed": 30,
     "status": "ok",
     "timestamp": 1671603909308,
     "user": {
      "displayName": "MEKHLA SHARMA",
      "userId": "05710641878641625170"
     },
     "user_tz": -330
    },
    "id": "eOba8-XVMQJ3",
    "outputId": "b560da53-2122-4779-a383-80ac957bf77c"
   },
   "outputs": [
    {
     "name": "stdout",
     "output_type": "stream",
     "text": [
      "['banana', 'peach']\n"
     ]
    }
   ],
   "source": [
    "print(fruits[1:3])"
   ]
  },
  {
   "cell_type": "code",
   "execution_count": 45,
   "metadata": {
    "executionInfo": {
     "elapsed": 37,
     "status": "ok",
     "timestamp": 1671603918575,
     "user": {
      "displayName": "MEKHLA SHARMA",
      "userId": "05710641878641625170"
     },
     "user_tz": -330
    },
    "id": "H64pu_tlMmsD"
   },
   "outputs": [],
   "source": [
    "fruits.clear()"
   ]
  },
  {
   "cell_type": "code",
   "execution_count": 46,
   "metadata": {
    "colab": {
     "base_uri": "https://localhost:8080/"
    },
    "executionInfo": {
     "elapsed": 31,
     "status": "ok",
     "timestamp": 1671603927486,
     "user": {
      "displayName": "MEKHLA SHARMA",
      "userId": "05710641878641625170"
     },
     "user_tz": -330
    },
    "id": "wJoOSk3hMp-B",
    "outputId": "d5fd23d1-e0ae-43c1-a86a-1df42fc02cfa"
   },
   "outputs": [
    {
     "data": {
      "text/plain": [
       "[]"
      ]
     },
     "execution_count": 46,
     "metadata": {},
     "output_type": "execute_result"
    }
   ],
   "source": [
    "fruits"
   ]
  },
  {
   "cell_type": "markdown",
   "metadata": {
    "id": "M4ugjSN2XLau"
   },
   "source": [
    "# **Tuple**"
   ]
  },
  {
   "cell_type": "markdown",
   "metadata": {},
   "source": [
    "#### Tuples are used to store multiple items in a single variable.Tuple is one of 4 built-in data types in Python used to store collections of data, the other 3 are List, Set, and Dictionary, all with different qualities and usage.A tuple is a collection which is ordered and unchangeable. Tuples are written with round brackets."
   ]
  },
  {
   "cell_type": "code",
   "execution_count": 47,
   "metadata": {
    "executionInfo": {
     "elapsed": 41,
     "status": "ok",
     "timestamp": 1671603935099,
     "user": {
      "displayName": "MEKHLA SHARMA",
      "userId": "05710641878641625170"
     },
     "user_tz": -330
    },
    "id": "-VGd4QF9NJni"
   },
   "outputs": [],
   "source": [
    "# tuple: collection of mixed data type storing muliple values. cannot add or delete item from tuple\n",
    "animal = (\"bear\", \"dog\", \"cat\", \"rat\", \"goat\")"
   ]
  },
  {
   "cell_type": "code",
   "execution_count": 48,
   "metadata": {
    "colab": {
     "base_uri": "https://localhost:8080/",
     "height": 36
    },
    "executionInfo": {
     "elapsed": 10,
     "status": "ok",
     "timestamp": 1671603939410,
     "user": {
      "displayName": "MEKHLA SHARMA",
      "userId": "05710641878641625170"
     },
     "user_tz": -330
    },
    "id": "KKA-3x5cOVj8",
    "outputId": "a9d64506-7261-4067-c2c3-033b0edd180f"
   },
   "outputs": [
    {
     "data": {
      "application/vnd.google.colaboratory.intrinsic+json": {
       "type": "string"
      },
      "text/plain": [
       "'rat'"
      ]
     },
     "execution_count": 48,
     "metadata": {},
     "output_type": "execute_result"
    }
   ],
   "source": [
    "animal [-2]"
   ]
  },
  {
   "cell_type": "code",
   "execution_count": 51,
   "metadata": {
    "colab": {
     "base_uri": "https://localhost:8080/"
    },
    "executionInfo": {
     "elapsed": 35,
     "status": "ok",
     "timestamp": 1671603974446,
     "user": {
      "displayName": "MEKHLA SHARMA",
      "userId": "05710641878641625170"
     },
     "user_tz": -330
    },
    "id": "xwbMNKRHOh-Y",
    "outputId": "053b1122-17d4-4b0e-ad9b-12c6e303df93"
   },
   "outputs": [
    {
     "name": "stdout",
     "output_type": "stream",
     "text": [
      "bear\n",
      "dog\n",
      "cat\n",
      "rat\n",
      "goat\n"
     ]
    }
   ],
   "source": [
    "# looping through tuple\n",
    "for i in animal:\n",
    "  print(i)"
   ]
  },
  {
   "cell_type": "code",
   "execution_count": 52,
   "metadata": {
    "colab": {
     "base_uri": "https://localhost:8080/"
    },
    "executionInfo": {
     "elapsed": 33,
     "status": "ok",
     "timestamp": 1671603981015,
     "user": {
      "displayName": "MEKHLA SHARMA",
      "userId": "05710641878641625170"
     },
     "user_tz": -330
    },
    "id": "WsuHGnDWOzPZ",
    "outputId": "db40984c-9d93-449b-8ebb-b2d5df31b63d"
   },
   "outputs": [
    {
     "name": "stdout",
     "output_type": "stream",
     "text": [
      "5\n"
     ]
    }
   ],
   "source": [
    "print(len(animal))"
   ]
  },
  {
   "cell_type": "code",
   "execution_count": 53,
   "metadata": {
    "executionInfo": {
     "elapsed": 1047,
     "status": "ok",
     "timestamp": 1671604013931,
     "user": {
      "displayName": "MEKHLA SHARMA",
      "userId": "05710641878641625170"
     },
     "user_tz": -330
    },
    "id": "PCj6ElCpPTSK"
   },
   "outputs": [],
   "source": [
    "# Joining tuples suing +\n",
    "letters = ('a', 'b','c')\n",
    "numbers = (1, 2, 3)\n",
    "letter_numbers = letters + numbers"
   ]
  },
  {
   "cell_type": "code",
   "execution_count": 54,
   "metadata": {
    "colab": {
     "base_uri": "https://localhost:8080/"
    },
    "executionInfo": {
     "elapsed": 8,
     "status": "ok",
     "timestamp": 1671604020024,
     "user": {
      "displayName": "MEKHLA SHARMA",
      "userId": "05710641878641625170"
     },
     "user_tz": -330
    },
    "id": "iOossBB8PmWe",
    "outputId": "b5803053-529b-4a7d-f122-f3bc6205f66f"
   },
   "outputs": [
    {
     "name": "stdout",
     "output_type": "stream",
     "text": [
      "('a', 'b', 'c', 1, 2, 3)\n"
     ]
    }
   ],
   "source": [
    "print(letter_numbers)"
   ]
  },
  {
   "cell_type": "markdown",
   "metadata": {},
   "source": [
    "# Python Dictionary"
   ]
  },
  {
   "cell_type": "markdown",
   "metadata": {},
   "source": [
    "#### Dictionary is a collection which is ordered*, changeable and do not allow duplicates.As of Python version 3.7, dictionaries are ordered. In Python 3.6 and earlier, dictionaries are unordered.Dictionaries are written with curly brackets, and have keys and values:"
   ]
  },
  {
   "cell_type": "code",
   "execution_count": 55,
   "metadata": {
    "executionInfo": {
     "elapsed": 6,
     "status": "ok",
     "timestamp": 1671604025291,
     "user": {
      "displayName": "MEKHLA SHARMA",
      "userId": "05710641878641625170"
     },
     "user_tz": -330
    },
    "id": "WxXb0bfLPxKt"
   },
   "outputs": [],
   "source": [
    "# Dictionaries key-value pair separated by commas\n",
    "country_city = {\n",
    "    \"uk\"    : \"london\",\n",
    "    \"usa\"   : \"washington\",\n",
    "    \"italy\" : \"rome\",\n",
    "    \"egypt\" : \"cairo\"\n",
    "}"
   ]
  },
  {
   "cell_type": "code",
   "execution_count": 56,
   "metadata": {
    "colab": {
     "base_uri": "https://localhost:8080/",
     "height": 36
    },
    "executionInfo": {
     "elapsed": 448,
     "status": "ok",
     "timestamp": 1671604046250,
     "user": {
      "displayName": "MEKHLA SHARMA",
      "userId": "05710641878641625170"
     },
     "user_tz": -330
    },
    "id": "ZdFX3k1RRioO",
    "outputId": "bfb0089e-bbee-44b6-b04d-77b0aa15be4a"
   },
   "outputs": [
    {
     "data": {
      "application/vnd.google.colaboratory.intrinsic+json": {
       "type": "string"
      },
      "text/plain": [
       "'rome'"
      ]
     },
     "execution_count": 56,
     "metadata": {},
     "output_type": "execute_result"
    }
   ],
   "source": [
    "country_city[\"italy\"]"
   ]
  },
  {
   "cell_type": "code",
   "execution_count": 57,
   "metadata": {
    "colab": {
     "base_uri": "https://localhost:8080/",
     "height": 36
    },
    "executionInfo": {
     "elapsed": 452,
     "status": "ok",
     "timestamp": 1671604050832,
     "user": {
      "displayName": "MEKHLA SHARMA",
      "userId": "05710641878641625170"
     },
     "user_tz": -330
    },
    "id": "Qr3G3IqSR2YU",
    "outputId": "484c90b3-1e42-4b35-e53b-e00d09296289"
   },
   "outputs": [
    {
     "data": {
      "application/vnd.google.colaboratory.intrinsic+json": {
       "type": "string"
      },
      "text/plain": [
       "'cairo'"
      ]
     },
     "execution_count": 57,
     "metadata": {},
     "output_type": "execute_result"
    }
   ],
   "source": [
    "# get returns value of the key\n",
    "country_city.get(\"egypt\")"
   ]
  },
  {
   "cell_type": "code",
   "execution_count": 58,
   "metadata": {
    "colab": {
     "base_uri": "https://localhost:8080/",
     "height": 36
    },
    "executionInfo": {
     "elapsed": 12,
     "status": "ok",
     "timestamp": 1671604054649,
     "user": {
      "displayName": "MEKHLA SHARMA",
      "userId": "05710641878641625170"
     },
     "user_tz": -330
    },
    "id": "MEAyPyJGSN2W",
    "outputId": "ef9f5636-ffb2-4b49-b79c-dc72749a07c4"
   },
   "outputs": [
    {
     "data": {
      "application/vnd.google.colaboratory.intrinsic+json": {
       "type": "string"
      },
      "text/plain": [
       "'atlanta'"
      ]
     },
     "execution_count": 58,
     "metadata": {},
     "output_type": "execute_result"
    }
   ],
   "source": [
    "country_city[\"usa\"] = \"atlanta\"\n",
    "country_city[\"usa\"]"
   ]
  },
  {
   "cell_type": "code",
   "execution_count": 59,
   "metadata": {
    "colab": {
     "base_uri": "https://localhost:8080/"
    },
    "executionInfo": {
     "elapsed": 458,
     "status": "ok",
     "timestamp": 1671604059103,
     "user": {
      "displayName": "MEKHLA SHARMA",
      "userId": "05710641878641625170"
     },
     "user_tz": -330
    },
    "id": "iHIw0WBsSrqT",
    "outputId": "6a4ebed0-efef-4101-970c-94ce20853cae"
   },
   "outputs": [
    {
     "name": "stdout",
     "output_type": "stream",
     "text": [
      "{'uk': 'london', 'usa': 'atlanta', 'italy': 'rome', 'egypt': 'cairo', 'japan': 'tokyo'}\n"
     ]
    }
   ],
   "source": [
    "# add item to dictionary\n",
    "country_city[\"japan\"] = \"tokyo\"\n",
    "print(country_city)"
   ]
  },
  {
   "cell_type": "code",
   "execution_count": 60,
   "metadata": {
    "colab": {
     "base_uri": "https://localhost:8080/"
    },
    "executionInfo": {
     "elapsed": 10,
     "status": "ok",
     "timestamp": 1671604064007,
     "user": {
      "displayName": "MEKHLA SHARMA",
      "userId": "05710641878641625170"
     },
     "user_tz": -330
    },
    "id": "7eXmozp8TU7J",
    "outputId": "b747b12a-b843-419f-8841-95a6b200e455"
   },
   "outputs": [
    {
     "name": "stdout",
     "output_type": "stream",
     "text": [
      "{'uk': 'london', 'usa': 'atlanta', 'italy': 'rome', 'egypt': 'cairo'}\n"
     ]
    }
   ],
   "source": [
    "# to remove an item\n",
    "country_city.pop(\"japan\")\n",
    "print(country_city)"
   ]
  },
  {
   "cell_type": "code",
   "execution_count": 61,
   "metadata": {
    "colab": {
     "base_uri": "https://localhost:8080/"
    },
    "executionInfo": {
     "elapsed": 19,
     "status": "ok",
     "timestamp": 1671604067826,
     "user": {
      "displayName": "MEKHLA SHARMA",
      "userId": "05710641878641625170"
     },
     "user_tz": -330
    },
    "id": "NpglcpT6UBdE",
    "outputId": "335d9c94-301b-49c8-fba1-9883ae3157a9"
   },
   "outputs": [
    {
     "name": "stdout",
     "output_type": "stream",
     "text": [
      "uk\n",
      "usa\n",
      "italy\n",
      "egypt\n"
     ]
    }
   ],
   "source": [
    "for i in country_city:\n",
    "  print(i)"
   ]
  },
  {
   "cell_type": "code",
   "execution_count": 62,
   "metadata": {
    "colab": {
     "base_uri": "https://localhost:8080/"
    },
    "executionInfo": {
     "elapsed": 9,
     "status": "ok",
     "timestamp": 1671604072556,
     "user": {
      "displayName": "MEKHLA SHARMA",
      "userId": "05710641878641625170"
     },
     "user_tz": -330
    },
    "id": "D3mJrboAUNDD",
    "outputId": "d7e21bfc-c634-4696-c5f0-7192ee15cfc8"
   },
   "outputs": [
    {
     "name": "stdout",
     "output_type": "stream",
     "text": [
      "london\n",
      "atlanta\n",
      "rome\n",
      "cairo\n"
     ]
    }
   ],
   "source": [
    "for i in country_city.values():\n",
    "  print(i)"
   ]
  },
  {
   "cell_type": "code",
   "execution_count": 63,
   "metadata": {
    "colab": {
     "base_uri": "https://localhost:8080/"
    },
    "executionInfo": {
     "elapsed": 11,
     "status": "ok",
     "timestamp": 1671604079018,
     "user": {
      "displayName": "MEKHLA SHARMA",
      "userId": "05710641878641625170"
     },
     "user_tz": -330
    },
    "id": "Ct-OZV3ZUGgH",
    "outputId": "8c9927f6-9714-45c9-9cb5-7b1f675073ec"
   },
   "outputs": [
    {
     "name": "stdout",
     "output_type": "stream",
     "text": [
      "uk london\n",
      "usa atlanta\n",
      "italy rome\n",
      "egypt cairo\n"
     ]
    }
   ],
   "source": [
    "# display both key and values\n",
    "for x,y in country_city.items():\n",
    "  print(x,y)"
   ]
  },
  {
   "cell_type": "code",
   "execution_count": 64,
   "metadata": {
    "colab": {
     "base_uri": "https://localhost:8080/"
    },
    "executionInfo": {
     "elapsed": 7,
     "status": "ok",
     "timestamp": 1671604081652,
     "user": {
      "displayName": "MEKHLA SHARMA",
      "userId": "05710641878641625170"
     },
     "user_tz": -330
    },
    "id": "Qc898Q82VPvM",
    "outputId": "ba933b60-d14e-452c-b97e-0f9f1062df6a"
   },
   "outputs": [
    {
     "name": "stdout",
     "output_type": "stream",
     "text": [
      "4\n"
     ]
    }
   ],
   "source": [
    "print(len(country_city))"
   ]
  },
  {
   "cell_type": "markdown",
   "metadata": {
    "id": "lIBCqJEeXlHk"
   },
   "source": [
    "# Python Operators"
   ]
  },
  {
   "cell_type": "markdown",
   "metadata": {},
   "source": [
    "#### Operators are used to perform operations on variables and values.\n",
    "#### Python divides the operators in the following groups:\n",
    "\n",
    "* Arithmetic operators\n",
    "* Assignment operators\n",
    "* Comparison operators\n",
    "* Logical operators\n",
    "* Identity operators\n",
    "* Membership operators\n",
    "* Bitwise operators\n"
   ]
  },
  {
   "cell_type": "markdown",
   "metadata": {},
   "source": []
  },
  {
   "cell_type": "code",
   "execution_count": 65,
   "metadata": {
    "colab": {
     "base_uri": "https://localhost:8080/"
    },
    "executionInfo": {
     "elapsed": 712,
     "status": "ok",
     "timestamp": 1671604112409,
     "user": {
      "displayName": "MEKHLA SHARMA",
      "userId": "05710641878641625170"
     },
     "user_tz": -330
    },
    "id": "fX78xGnRWGtA",
    "outputId": "c4082ba3-f1bb-47e1-c449-4b92464548bd"
   },
   "outputs": [
    {
     "name": "stdout",
     "output_type": "stream",
     "text": [
      "11\n"
     ]
    }
   ],
   "source": [
    "x = 4\n",
    "y = 7\n",
    "print(x+y)"
   ]
  },
  {
   "cell_type": "code",
   "execution_count": 66,
   "metadata": {
    "colab": {
     "base_uri": "https://localhost:8080/"
    },
    "executionInfo": {
     "elapsed": 477,
     "status": "ok",
     "timestamp": 1671604117272,
     "user": {
      "displayName": "MEKHLA SHARMA",
      "userId": "05710641878641625170"
     },
     "user_tz": -330
    },
    "id": "-MtgNFepWUZe",
    "outputId": "212ed855-d067-4bf1-acec-ef0b5db8753a"
   },
   "outputs": [
    {
     "name": "stdout",
     "output_type": "stream",
     "text": [
      "28\n"
     ]
    }
   ],
   "source": [
    "print(x*y)"
   ]
  },
  {
   "cell_type": "code",
   "execution_count": 67,
   "metadata": {
    "colab": {
     "base_uri": "https://localhost:8080/"
    },
    "executionInfo": {
     "elapsed": 6,
     "status": "ok",
     "timestamp": 1671604122624,
     "user": {
      "displayName": "MEKHLA SHARMA",
      "userId": "05710641878641625170"
     },
     "user_tz": -330
    },
    "id": "4upEhDJSWYQM",
    "outputId": "a353f174-95d5-4277-ca59-8a338d7e3da9"
   },
   "outputs": [
    {
     "name": "stdout",
     "output_type": "stream",
     "text": [
      "6\n"
     ]
    }
   ],
   "source": [
    "x = 3\n",
    "x +=3\n",
    "print(x)"
   ]
  },
  {
   "cell_type": "code",
   "execution_count": 68,
   "metadata": {
    "colab": {
     "base_uri": "https://localhost:8080/"
    },
    "executionInfo": {
     "elapsed": 35,
     "status": "ok",
     "timestamp": 1671604129745,
     "user": {
      "displayName": "MEKHLA SHARMA",
      "userId": "05710641878641625170"
     },
     "user_tz": -330
    },
    "id": "jqYT4mK1WrBO",
    "outputId": "9af24586-9949-4aa7-ad60-3fb30655ece3"
   },
   "outputs": [
    {
     "name": "stdout",
     "output_type": "stream",
     "text": [
      "14\n"
     ]
    }
   ],
   "source": [
    "x = 7\n",
    "x *= 2\n",
    "print(x)"
   ]
  },
  {
   "cell_type": "code",
   "execution_count": 69,
   "metadata": {
    "colab": {
     "base_uri": "https://localhost:8080/"
    },
    "executionInfo": {
     "elapsed": 13,
     "status": "ok",
     "timestamp": 1671604134330,
     "user": {
      "displayName": "MEKHLA SHARMA",
      "userId": "05710641878641625170"
     },
     "user_tz": -330
    },
    "id": "ytWm-OJXW9BL",
    "outputId": "c8ac49cd-6f33-4316-a72a-e05f1bb5e134"
   },
   "outputs": [
    {
     "name": "stdout",
     "output_type": "stream",
     "text": [
      "False\n"
     ]
    }
   ],
   "source": [
    "x = 7\n",
    "y = 4\n",
    "print(x==y)"
   ]
  },
  {
   "cell_type": "code",
   "execution_count": 70,
   "metadata": {
    "colab": {
     "base_uri": "https://localhost:8080/"
    },
    "executionInfo": {
     "elapsed": 12,
     "status": "ok",
     "timestamp": 1671604140806,
     "user": {
      "displayName": "MEKHLA SHARMA",
      "userId": "05710641878641625170"
     },
     "user_tz": -330
    },
    "id": "Ys-YqqzKXGRf",
    "outputId": "cc5cb488-5983-42e3-901f-0075eec15055"
   },
   "outputs": [
    {
     "name": "stdout",
     "output_type": "stream",
     "text": [
      "True\n"
     ]
    }
   ],
   "source": [
    "x = 7\n",
    "y = 9\n",
    "print(x<y)"
   ]
  },
  {
   "cell_type": "markdown",
   "metadata": {
    "id": "ys6IpQ-XX0gg"
   },
   "source": [
    "# Python Statements"
   ]
  },
  {
   "cell_type": "markdown",
   "metadata": {
    "id": "-0q_FpBAYFqi"
   },
   "source": [
    "#### A statement is an instruction that the Python interpreter can execute. We have seen two kinds of statements: print and assignment. When you type a statement on the command line, Python executes it and displays the result, if there is one. The result of a print statement is a value."
   ]
  },
  {
   "cell_type": "code",
   "execution_count": 71,
   "metadata": {
    "colab": {
     "base_uri": "https://localhost:8080/"
    },
    "executionInfo": {
     "elapsed": 40,
     "status": "ok",
     "timestamp": 1671604178944,
     "user": {
      "displayName": "MEKHLA SHARMA",
      "userId": "05710641878641625170"
     },
     "user_tz": -330
    },
    "id": "JutrhNaKXoFV",
    "outputId": "2600f240-a3c8-4fce-b860-46eab48eb2d9"
   },
   "outputs": [
    {
     "name": "stdout",
     "output_type": "stream",
     "text": [
      "a is smaller than b\n"
     ]
    }
   ],
   "source": [
    "# If Statement\n",
    "a = 2\n",
    "b = 3\n",
    "if a<b:\n",
    "  print(\"a is smaller than b\")"
   ]
  },
  {
   "cell_type": "code",
   "execution_count": 72,
   "metadata": {
    "executionInfo": {
     "elapsed": 1109,
     "status": "ok",
     "timestamp": 1671604196866,
     "user": {
      "displayName": "MEKHLA SHARMA",
      "userId": "05710641878641625170"
     },
     "user_tz": -330
    },
    "id": "gC7-3885X981"
   },
   "outputs": [],
   "source": [
    "# ELIF Statement\n"
   ]
  },
  {
   "cell_type": "code",
   "execution_count": 73,
   "metadata": {
    "colab": {
     "base_uri": "https://localhost:8080/"
    },
    "executionInfo": {
     "elapsed": 849,
     "status": "ok",
     "timestamp": 1671604201137,
     "user": {
      "displayName": "MEKHLA SHARMA",
      "userId": "05710641878641625170"
     },
     "user_tz": -330
    },
    "id": "74Skek-lYUHb",
    "outputId": "63969b8d-b838-456f-cf50-98ea3168b9bd"
   },
   "outputs": [
    {
     "name": "stdout",
     "output_type": "stream",
     "text": [
      "a is less than b\n"
     ]
    }
   ],
   "source": [
    "a = 10\n",
    "b = 20\n",
    "if a == b:\n",
    "  print(\"both a and b are equal\")\n",
    "elif a < b:\n",
    "    print(\"a is less than b\")"
   ]
  },
  {
   "cell_type": "code",
   "execution_count": 74,
   "metadata": {
    "executionInfo": {
     "elapsed": 774,
     "status": "ok",
     "timestamp": 1671604207943,
     "user": {
      "displayName": "MEKHLA SHARMA",
      "userId": "05710641878641625170"
     },
     "user_tz": -330
    },
    "id": "ctilsQ0HZmBu"
   },
   "outputs": [],
   "source": [
    "# ELSE Statement"
   ]
  },
  {
   "cell_type": "code",
   "execution_count": 75,
   "metadata": {
    "colab": {
     "base_uri": "https://localhost:8080/"
    },
    "executionInfo": {
     "elapsed": 13,
     "status": "ok",
     "timestamp": 1671604210679,
     "user": {
      "displayName": "MEKHLA SHARMA",
      "userId": "05710641878641625170"
     },
     "user_tz": -330
    },
    "id": "m6p4xm7nZoa9",
    "outputId": "f8065096-cd81-47f7-cdbf-bfc45b5baf9e"
   },
   "outputs": [
    {
     "name": "stdout",
     "output_type": "stream",
     "text": [
      " b is greater than c\n"
     ]
    }
   ],
   "source": [
    "a = 10\n",
    "b = 20\n",
    "if a == b:\n",
    "  print(\"a and b are equal\")\n",
    "elif a > b:\n",
    "  print(\"a is greater than b\")\n",
    "else:\n",
    "  print(\" b is greater than c\")"
   ]
  },
  {
   "cell_type": "code",
   "execution_count": 76,
   "metadata": {
    "colab": {
     "base_uri": "https://localhost:8080/"
    },
    "executionInfo": {
     "elapsed": 36791,
     "status": "ok",
     "timestamp": 1671604250303,
     "user": {
      "displayName": "MEKHLA SHARMA",
      "userId": "05710641878641625170"
     },
     "user_tz": -330
    },
    "id": "IpRbY___bQ8D",
    "outputId": "c9eb00c0-33a7-4f27-9e44-1a8025ce26eb"
   },
   "outputs": [
    {
     "name": "stdout",
     "output_type": "stream",
     "text": [
      "enter the number5\n",
      "enter the number6\n",
      "11\n"
     ]
    }
   ],
   "source": [
    "first = int(input(\"enter the number\"))\n",
    "second = int(input(\"enter the number\"))\n",
    "sum = first + second\n",
    "print(sum)"
   ]
  },
  {
   "cell_type": "markdown",
   "metadata": {
    "id": "KVrctQVGYRDJ"
   },
   "source": [
    "# **Looping**"
   ]
  },
  {
   "cell_type": "markdown",
   "metadata": {},
   "source": [
    "#### A for loop is used for iterating over a sequence (that is either a list, a tuple, a dictionary, a set, or a string).This is less like the for keyword in other programming languages, and works more like an iterator method as found in other object-orientated programming languages.With the for loop we can execute a set of statements, once for each item in a list, tuple, set etc."
   ]
  },
  {
   "cell_type": "code",
   "execution_count": 77,
   "metadata": {
    "executionInfo": {
     "elapsed": 439,
     "status": "ok",
     "timestamp": 1671604257430,
     "user": {
      "displayName": "MEKHLA SHARMA",
      "userId": "05710641878641625170"
     },
     "user_tz": -330
    },
    "id": "RyniZQz3cf7R"
   },
   "outputs": [],
   "source": [
    "#LOOP Statements\n",
    "#While"
   ]
  },
  {
   "cell_type": "code",
   "execution_count": 78,
   "metadata": {
    "colab": {
     "base_uri": "https://localhost:8080/"
    },
    "executionInfo": {
     "elapsed": 7,
     "status": "ok",
     "timestamp": 1671604259966,
     "user": {
      "displayName": "MEKHLA SHARMA",
      "userId": "05710641878641625170"
     },
     "user_tz": -330
    },
    "id": "4dcZLfsLd-aL",
    "outputId": "5a03aeb2-6eea-4dac-9aa5-3340a697b374"
   },
   "outputs": [
    {
     "name": "stdout",
     "output_type": "stream",
     "text": [
      "1\n",
      "2\n",
      "3\n",
      "4\n",
      "5\n",
      "6\n"
     ]
    }
   ],
   "source": [
    "i = 1\n",
    "while i<7:\n",
    "  print(i)\n",
    "  i += 1"
   ]
  },
  {
   "cell_type": "code",
   "execution_count": 79,
   "metadata": {
    "colab": {
     "base_uri": "https://localhost:8080/"
    },
    "executionInfo": {
     "elapsed": 10,
     "status": "ok",
     "timestamp": 1671604265870,
     "user": {
      "displayName": "MEKHLA SHARMA",
      "userId": "05710641878641625170"
     },
     "user_tz": -330
    },
    "id": "mc3TpHhcejBU",
    "outputId": "281ffd81-8300-40a5-a80d-37a5ff6e4f79"
   },
   "outputs": [
    {
     "name": "stdout",
     "output_type": "stream",
     "text": [
      "1\n",
      "2\n",
      "3\n",
      "4\n"
     ]
    }
   ],
   "source": [
    "i = 1\n",
    "while i<7:\n",
    "  print(i)\n",
    "  if (i == 4):\n",
    "    break\n",
    "  i += 1"
   ]
  },
  {
   "cell_type": "code",
   "execution_count": 80,
   "metadata": {
    "executionInfo": {
     "elapsed": 475,
     "status": "ok",
     "timestamp": 1671604293809,
     "user": {
      "displayName": "MEKHLA SHARMA",
      "userId": "05710641878641625170"
     },
     "user_tz": -330
    },
    "id": "2FMWdAEEe8g9"
   },
   "outputs": [],
   "source": [
    "# FOR Loop\n"
   ]
  },
  {
   "cell_type": "code",
   "execution_count": 81,
   "metadata": {
    "colab": {
     "base_uri": "https://localhost:8080/"
    },
    "executionInfo": {
     "elapsed": 10,
     "status": "ok",
     "timestamp": 1671604296658,
     "user": {
      "displayName": "MEKHLA SHARMA",
      "userId": "05710641878641625170"
     },
     "user_tz": -330
    },
    "id": "3Y_tzXbQe-RO",
    "outputId": "19a235d9-437c-4679-b54b-f3ce1f26f77e"
   },
   "outputs": [
    {
     "name": "stdout",
     "output_type": "stream",
     "text": [
      "joy\n",
      "jack\n",
      "jill\n"
     ]
    }
   ],
   "source": [
    "name = [\"joy\", \"jack\", \"jill\"]\n",
    "for x in name:\n",
    "  print(x)"
   ]
  },
  {
   "cell_type": "code",
   "execution_count": 82,
   "metadata": {
    "colab": {
     "base_uri": "https://localhost:8080/"
    },
    "executionInfo": {
     "elapsed": 5,
     "status": "ok",
     "timestamp": 1671604298524,
     "user": {
      "displayName": "MEKHLA SHARMA",
      "userId": "05710641878641625170"
     },
     "user_tz": -330
    },
    "id": "6olas8a8fRJu",
    "outputId": "bb56200f-3302-4b4f-e176-ebea2279fef8"
   },
   "outputs": [
    {
     "name": "stdout",
     "output_type": "stream",
     "text": [
      "i\n",
      "n\n",
      "d\n",
      "i\n",
      "a\n"
     ]
    }
   ],
   "source": [
    "for x in \"india\":\n",
    "  print(x)"
   ]
  },
  {
   "cell_type": "code",
   "execution_count": 83,
   "metadata": {
    "colab": {
     "base_uri": "https://localhost:8080/"
    },
    "executionInfo": {
     "elapsed": 593,
     "status": "ok",
     "timestamp": 1671604304652,
     "user": {
      "displayName": "MEKHLA SHARMA",
      "userId": "05710641878641625170"
     },
     "user_tz": -330
    },
    "id": "_L153_XjfW7B",
    "outputId": "c31698f3-a8b6-4e86-ca78-d9113ca4295d"
   },
   "outputs": [
    {
     "name": "stdout",
     "output_type": "stream",
     "text": [
      "red cherry\n",
      "red orange\n",
      "red grapes\n",
      "orange cherry\n",
      "orange orange\n",
      "orange grapes\n",
      "green cherry\n",
      "green orange\n",
      "green grapes\n"
     ]
    }
   ],
   "source": [
    "colour = [\"red\", \"orange\", \"green\"]\n",
    "fruit =  [\"cherry\", \"orange\", \"grapes\"]\n",
    "for x in colour:\n",
    "  for y in fruit:\n",
    "    print (x,y)"
   ]
  },
  {
   "cell_type": "markdown",
   "metadata": {
    "id": "EwQdjciJYZJy"
   },
   "source": [
    "# **Functions**"
   ]
  },
  {
   "cell_type": "markdown",
   "metadata": {},
   "source": [
    "#### A function is a block of code which only runs when it is called.You can pass data, known as parameters, into a function.A function can return data as a result."
   ]
  },
  {
   "cell_type": "markdown",
   "metadata": {},
   "source": [
    "# Creating a Function"
   ]
  },
  {
   "cell_type": "markdown",
   "metadata": {},
   "source": [
    "#### In Python a function is defined using the def keyword:"
   ]
  },
  {
   "cell_type": "code",
   "execution_count": 84,
   "metadata": {
    "executionInfo": {
     "elapsed": 9,
     "status": "ok",
     "timestamp": 1671604328716,
     "user": {
      "displayName": "MEKHLA SHARMA",
      "userId": "05710641878641625170"
     },
     "user_tz": -330
    },
    "id": "zrSU0qBUg2Vx"
   },
   "outputs": [],
   "source": [
    "# Functions"
   ]
  },
  {
   "cell_type": "code",
   "execution_count": 85,
   "metadata": {
    "colab": {
     "base_uri": "https://localhost:8080/"
    },
    "executionInfo": {
     "elapsed": 448,
     "status": "ok",
     "timestamp": 1671604329611,
     "user": {
      "displayName": "MEKHLA SHARMA",
      "userId": "05710641878641625170"
     },
     "user_tz": -330
    },
    "id": "7CSxqT9sg5ck",
    "outputId": "ea90c5c4-b760-4455-8673-3f6b6e65997f"
   },
   "outputs": [
    {
     "name": "stdout",
     "output_type": "stream",
     "text": [
      "5\n"
     ]
    }
   ],
   "source": [
    "def sum(x,y):\n",
    "  print(x + y)\n",
    "\n",
    "sum(2,3)"
   ]
  },
  {
   "cell_type": "code",
   "execution_count": 86,
   "metadata": {
    "executionInfo": {
     "elapsed": 6,
     "status": "ok",
     "timestamp": 1671604334160,
     "user": {
      "displayName": "MEKHLA SHARMA",
      "userId": "05710641878641625170"
     },
     "user_tz": -330
    },
    "id": "6NZ2XdBkhNPk"
   },
   "outputs": [],
   "source": [
    "def sum(x,y):\n",
    "  print(x + y)"
   ]
  },
  {
   "cell_type": "code",
   "execution_count": 87,
   "metadata": {
    "colab": {
     "base_uri": "https://localhost:8080/"
    },
    "executionInfo": {
     "elapsed": 8,
     "status": "ok",
     "timestamp": 1671604336323,
     "user": {
      "displayName": "MEKHLA SHARMA",
      "userId": "05710641878641625170"
     },
     "user_tz": -330
    },
    "id": "a71v9vW3hQid",
    "outputId": "1ad5224c-7c79-40d3-99d0-e24ccfdef95d"
   },
   "outputs": [
    {
     "name": "stdout",
     "output_type": "stream",
     "text": [
      "9\n"
     ]
    }
   ],
   "source": [
    "sum(2, 7)"
   ]
  },
  {
   "cell_type": "code",
   "execution_count": 88,
   "metadata": {
    "executionInfo": {
     "elapsed": 480,
     "status": "ok",
     "timestamp": 1671604341017,
     "user": {
      "displayName": "MEKHLA SHARMA",
      "userId": "05710641878641625170"
     },
     "user_tz": -330
    },
    "id": "pcwgebcXh7zg"
   },
   "outputs": [],
   "source": [
    "def student(name = \"blueline\"):\n",
    "  print(\"hello \" + name)\n"
   ]
  },
  {
   "cell_type": "code",
   "execution_count": 89,
   "metadata": {
    "colab": {
     "base_uri": "https://localhost:8080/"
    },
    "executionInfo": {
     "elapsed": 17,
     "status": "ok",
     "timestamp": 1671604347311,
     "user": {
      "displayName": "MEKHLA SHARMA",
      "userId": "05710641878641625170"
     },
     "user_tz": -330
    },
    "id": "0I59DBlMiIwV",
    "outputId": "948baa05-1e5b-42b8-aab1-96b4b6173dd0"
   },
   "outputs": [
    {
     "name": "stdout",
     "output_type": "stream",
     "text": [
      "hello blueline\n"
     ]
    }
   ],
   "source": [
    "# calling function without argument\n",
    "student()"
   ]
  },
  {
   "cell_type": "code",
   "execution_count": 90,
   "metadata": {
    "colab": {
     "base_uri": "https://localhost:8080/"
    },
    "executionInfo": {
     "elapsed": 6,
     "status": "ok",
     "timestamp": 1671604349449,
     "user": {
      "displayName": "MEKHLA SHARMA",
      "userId": "05710641878641625170"
     },
     "user_tz": -330
    },
    "id": "awF-q8ISiN5J",
    "outputId": "8ff22ee1-c44a-431d-a11c-147f0dd46b41"
   },
   "outputs": [
    {
     "name": "stdout",
     "output_type": "stream",
     "text": [
      "hello john\n"
     ]
    }
   ],
   "source": [
    "student(\"john\")"
   ]
  },
  {
   "cell_type": "code",
   "execution_count": 91,
   "metadata": {
    "colab": {
     "base_uri": "https://localhost:8080/"
    },
    "executionInfo": {
     "elapsed": 7,
     "status": "ok",
     "timestamp": 1671604351734,
     "user": {
      "displayName": "MEKHLA SHARMA",
      "userId": "05710641878641625170"
     },
     "user_tz": -330
    },
    "id": "2LIgpROZiTVP",
    "outputId": "8a458edd-861a-4423-918e-6403068f2337"
   },
   "outputs": [
    {
     "name": "stdout",
     "output_type": "stream",
     "text": [
      "hello james\n"
     ]
    }
   ],
   "source": [
    "student(\"james\")"
   ]
  },
  {
   "cell_type": "code",
   "execution_count": 92,
   "metadata": {
    "executionInfo": {
     "elapsed": 710,
     "status": "ok",
     "timestamp": 1671604355664,
     "user": {
      "displayName": "MEKHLA SHARMA",
      "userId": "05710641878641625170"
     },
     "user_tz": -330
    },
    "id": "TA20NQXOQg6i"
   },
   "outputs": [],
   "source": [
    "def calculator(operand1, operand2, operator):\n",
    "  if operator == '+':\n",
    "    return operand1 + operand2\n",
    "  elif operator == '*':\n",
    "    return operand1 * operand2\n",
    "  elif operator == '/':\n",
    "    if operand2 != 0:\n",
    "      return operand1 / operand2\n",
    "    else:\n",
    "      return none\n",
    "  else:\n",
    "    return \"invalid inputs\""
   ]
  },
  {
   "cell_type": "code",
   "execution_count": 93,
   "metadata": {
    "colab": {
     "base_uri": "https://localhost:8080/"
    },
    "executionInfo": {
     "elapsed": 453,
     "status": "ok",
     "timestamp": 1671604362975,
     "user": {
      "displayName": "MEKHLA SHARMA",
      "userId": "05710641878641625170"
     },
     "user_tz": -330
    },
    "id": "M1b-_KR5QrIK",
    "outputId": "67bdee41-bd28-4965-894b-4a8665a7bbd4"
   },
   "outputs": [
    {
     "name": "stdout",
     "output_type": "stream",
     "text": [
      "30\n"
     ]
    }
   ],
   "source": [
    "output = calculator(10, 20, '+')\n",
    "print(output)"
   ]
  },
  {
   "cell_type": "markdown",
   "metadata": {
    "id": "sIrOZxjwtBqW"
   },
   "source": [
    "# **Exercise**"
   ]
  },
  {
   "cell_type": "markdown",
   "metadata": {},
   "source": [
    "#### Find the area of the triangle by using the given three sides of the triangle"
   ]
  },
  {
   "cell_type": "code",
   "execution_count": 94,
   "metadata": {
    "colab": {
     "base_uri": "https://localhost:8080/"
    },
    "executionInfo": {
     "elapsed": 953,
     "status": "ok",
     "timestamp": 1671604371492,
     "user": {
      "displayName": "MEKHLA SHARMA",
      "userId": "05710641878641625170"
     },
     "user_tz": -330
    },
    "id": "9YzNkIFsSAa2",
    "outputId": "25e726cd-e6b8-4647-b40f-ff20100ed06d"
   },
   "outputs": [
    {
     "name": "stdout",
     "output_type": "stream",
     "text": [
      "The area of the triangle is 14.70\n"
     ]
    }
   ],
   "source": [
    "# Python Program to find the area of triangle\n",
    "\n",
    "a = 5\n",
    "b = 6\n",
    "c = 7\n",
    "\n",
    "# Uncomment below to take inputs from the user\n",
    "# a = float(input('Enter first side: '))\n",
    "# b = float(input('Enter second side: '))\n",
    "# c = float(input('Enter third side: '))\n",
    "\n",
    "# calculate the semi-perimeter\n",
    "s = (a + b + c) / 2\n",
    "\n",
    "# calculate the area\n",
    "area = (s*(s-a)*(s-b)*(s-c)) ** 0.5\n",
    "print('The area of the triangle is %0.2f' %area)"
   ]
  }
 ],
 "metadata": {
  "colab": {
   "authorship_tag": "ABX9TyMqd59mFMfOtD/WS76kSPQA",
   "provenance": []
  },
  "kernelspec": {
   "display_name": "Python 3 (ipykernel)",
   "language": "python",
   "name": "python3"
  },
  "language_info": {
   "codemirror_mode": {
    "name": "ipython",
    "version": 3
   },
   "file_extension": ".py",
   "mimetype": "text/x-python",
   "name": "python",
   "nbconvert_exporter": "python",
   "pygments_lexer": "ipython3",
   "version": "3.9.12"
  }
 },
 "nbformat": 4,
 "nbformat_minor": 1
}
